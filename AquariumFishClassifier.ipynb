{
  "nbformat": 4,
  "nbformat_minor": 0,
  "metadata": {
    "colab": {
      "name": "AquariumFishClassifier.ipynb",
      "provenance": [],
      "collapsed_sections": []
    },
    "kernelspec": {
      "name": "python3",
      "display_name": "Python 3"
    },
    "widgets": {
      "application/vnd.jupyter.widget-state+json": {
        "07e23dee304642cd955f24c52b279c1b": {
          "model_module": "@jupyter-widgets/controls",
          "model_name": "VBoxModel",
          "state": {
            "_view_name": "VBoxView",
            "_dom_classes": [],
            "_model_name": "VBoxModel",
            "_view_module": "@jupyter-widgets/controls",
            "_model_module_version": "1.5.0",
            "_view_count": null,
            "_view_module_version": "1.5.0",
            "box_style": "",
            "layout": "IPY_MODEL_87eb82822eec4c0abd4cf71daa289888",
            "_model_module": "@jupyter-widgets/controls",
            "children": [
              "IPY_MODEL_1bda5d3d5785466680bbc3d525af33f4",
              "IPY_MODEL_c54b80e18005469d9a26bbd21c28734f",
              "IPY_MODEL_68555cd9dbf04bf788605aa762426a3b",
              "IPY_MODEL_8c61cf70fbd74be38bc7d0f9bae1f0c4",
              "IPY_MODEL_a6634f6cd769434787a233c2415228fb"
            ]
          }
        },
        "87eb82822eec4c0abd4cf71daa289888": {
          "model_module": "@jupyter-widgets/base",
          "model_name": "LayoutModel",
          "state": {
            "_view_name": "LayoutView",
            "grid_template_rows": null,
            "right": null,
            "justify_content": null,
            "_view_module": "@jupyter-widgets/base",
            "overflow": null,
            "_model_module_version": "1.2.0",
            "_view_count": null,
            "flex_flow": null,
            "width": null,
            "min_width": null,
            "border": null,
            "align_items": null,
            "bottom": null,
            "_model_module": "@jupyter-widgets/base",
            "top": null,
            "grid_column": null,
            "overflow_y": null,
            "overflow_x": null,
            "grid_auto_flow": null,
            "grid_area": null,
            "grid_template_columns": null,
            "flex": null,
            "_model_name": "LayoutModel",
            "justify_items": null,
            "grid_row": null,
            "max_height": null,
            "align_content": null,
            "visibility": null,
            "align_self": null,
            "height": null,
            "min_height": null,
            "padding": null,
            "grid_auto_rows": null,
            "grid_gap": null,
            "max_width": null,
            "order": null,
            "_view_module_version": "1.2.0",
            "grid_template_areas": null,
            "object_position": null,
            "object_fit": null,
            "grid_auto_columns": null,
            "margin": null,
            "display": null,
            "left": null
          }
        },
        "1bda5d3d5785466680bbc3d525af33f4": {
          "model_module": "@jupyter-widgets/controls",
          "model_name": "LabelModel",
          "state": {
            "_view_name": "LabelView",
            "style": "IPY_MODEL_b82f9c115cd749358e4f00a5d004810f",
            "_dom_classes": [],
            "description": "",
            "_model_name": "LabelModel",
            "placeholder": "​",
            "_view_module": "@jupyter-widgets/controls",
            "_model_module_version": "1.5.0",
            "value": "Upload fish image!",
            "_view_count": null,
            "_view_module_version": "1.5.0",
            "description_tooltip": null,
            "_model_module": "@jupyter-widgets/controls",
            "layout": "IPY_MODEL_733678133698422f8f6d052a82b505e8"
          }
        },
        "c54b80e18005469d9a26bbd21c28734f": {
          "model_module": "@jupyter-widgets/controls",
          "model_name": "FileUploadModel",
          "state": {
            "_view_name": "FileUploadView",
            "_counter": 1,
            "style": "IPY_MODEL_c7ae118c1cc446a0be425af48a683c8c",
            "_dom_classes": [],
            "description": "Upload",
            "multiple": false,
            "_model_name": "FileUploadModel",
            "data": [
              null
            ],
            "button_style": "",
            "_view_module": "@jupyter-widgets/controls",
            "_model_module_version": "1.5.0",
            "accept": "",
            "_view_count": null,
            "disabled": false,
            "_view_module_version": "1.5.0",
            "error": "",
            "description_tooltip": null,
            "metadata": [
              {
                "name": "molly-fish-isolated-white-38969038.jpg",
                "type": "image/jpeg",
                "size": 76814,
                "lastModified": 1609693111000
              }
            ],
            "_model_module": "@jupyter-widgets/controls",
            "layout": "IPY_MODEL_0fc360c580f84901aa7db22eb43071bd",
            "icon": "upload"
          }
        },
        "68555cd9dbf04bf788605aa762426a3b": {
          "model_module": "@jupyter-widgets/output",
          "model_name": "OutputModel",
          "state": {
            "_view_name": "OutputView",
            "msg_id": "",
            "_dom_classes": [],
            "_model_name": "OutputModel",
            "outputs": [
              {
                "output_type": "display_data",
                "metadata": {
                  "tags": []
                },
                "image/png": "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\n",
                "text/plain": "<PIL.Image.Image image mode=RGB size=128x80 at 0x7F0DAB1F3048>"
              }
            ],
            "_view_module": "@jupyter-widgets/output",
            "_model_module_version": "1.0.0",
            "_view_count": null,
            "_view_module_version": "1.0.0",
            "layout": "IPY_MODEL_ec22b624be0f489089ac1f1096b0aa4f",
            "_model_module": "@jupyter-widgets/output"
          }
        },
        "8c61cf70fbd74be38bc7d0f9bae1f0c4": {
          "model_module": "@jupyter-widgets/controls",
          "model_name": "LabelModel",
          "state": {
            "_view_name": "LabelView",
            "style": "IPY_MODEL_ec3730a05e7e40b9829aa690f9112816",
            "_dom_classes": [],
            "description": "",
            "_model_name": "LabelModel",
            "placeholder": "​",
            "_view_module": "@jupyter-widgets/controls",
            "_model_module_version": "1.5.0",
            "value": "Prediction: molly; Probability: 0.8230",
            "_view_count": null,
            "_view_module_version": "1.5.0",
            "description_tooltip": null,
            "_model_module": "@jupyter-widgets/controls",
            "layout": "IPY_MODEL_2f89452e1c9f467cbabf7a4ffbe8a6ee"
          }
        },
        "a6634f6cd769434787a233c2415228fb": {
          "model_module": "@jupyter-widgets/controls",
          "model_name": "IntProgressModel",
          "state": {
            "_view_name": "ProgressView",
            "style": "IPY_MODEL_c0628c2835de45cb97cc2191c1194b22",
            "_dom_classes": [],
            "description": "",
            "_model_name": "IntProgressModel",
            "bar_style": "info",
            "max": 100,
            "_view_module": "@jupyter-widgets/controls",
            "_model_module_version": "1.5.0",
            "value": 82,
            "_view_count": null,
            "_view_module_version": "1.5.0",
            "orientation": "horizontal",
            "min": 0,
            "description_tooltip": null,
            "_model_module": "@jupyter-widgets/controls",
            "layout": "IPY_MODEL_93275171cebc4597bf32623974a9302b"
          }
        },
        "b82f9c115cd749358e4f00a5d004810f": {
          "model_module": "@jupyter-widgets/controls",
          "model_name": "DescriptionStyleModel",
          "state": {
            "_view_name": "StyleView",
            "_model_name": "DescriptionStyleModel",
            "description_width": "",
            "_view_module": "@jupyter-widgets/base",
            "_model_module_version": "1.5.0",
            "_view_count": null,
            "_view_module_version": "1.2.0",
            "_model_module": "@jupyter-widgets/controls"
          }
        },
        "733678133698422f8f6d052a82b505e8": {
          "model_module": "@jupyter-widgets/base",
          "model_name": "LayoutModel",
          "state": {
            "_view_name": "LayoutView",
            "grid_template_rows": null,
            "right": null,
            "justify_content": null,
            "_view_module": "@jupyter-widgets/base",
            "overflow": null,
            "_model_module_version": "1.2.0",
            "_view_count": null,
            "flex_flow": null,
            "width": null,
            "min_width": null,
            "border": null,
            "align_items": null,
            "bottom": null,
            "_model_module": "@jupyter-widgets/base",
            "top": null,
            "grid_column": null,
            "overflow_y": null,
            "overflow_x": null,
            "grid_auto_flow": null,
            "grid_area": null,
            "grid_template_columns": null,
            "flex": null,
            "_model_name": "LayoutModel",
            "justify_items": null,
            "grid_row": null,
            "max_height": null,
            "align_content": null,
            "visibility": null,
            "align_self": null,
            "height": null,
            "min_height": null,
            "padding": null,
            "grid_auto_rows": null,
            "grid_gap": null,
            "max_width": null,
            "order": null,
            "_view_module_version": "1.2.0",
            "grid_template_areas": null,
            "object_position": null,
            "object_fit": null,
            "grid_auto_columns": null,
            "margin": null,
            "display": null,
            "left": null
          }
        },
        "c7ae118c1cc446a0be425af48a683c8c": {
          "model_module": "@jupyter-widgets/controls",
          "model_name": "ButtonStyleModel",
          "state": {
            "_view_name": "StyleView",
            "_model_name": "ButtonStyleModel",
            "_view_module": "@jupyter-widgets/base",
            "_model_module_version": "1.5.0",
            "_view_count": null,
            "button_color": null,
            "font_weight": "",
            "_view_module_version": "1.2.0",
            "_model_module": "@jupyter-widgets/controls"
          }
        },
        "0fc360c580f84901aa7db22eb43071bd": {
          "model_module": "@jupyter-widgets/base",
          "model_name": "LayoutModel",
          "state": {
            "_view_name": "LayoutView",
            "grid_template_rows": null,
            "right": null,
            "justify_content": null,
            "_view_module": "@jupyter-widgets/base",
            "overflow": null,
            "_model_module_version": "1.2.0",
            "_view_count": null,
            "flex_flow": null,
            "width": null,
            "min_width": null,
            "border": null,
            "align_items": null,
            "bottom": null,
            "_model_module": "@jupyter-widgets/base",
            "top": null,
            "grid_column": null,
            "overflow_y": null,
            "overflow_x": null,
            "grid_auto_flow": null,
            "grid_area": null,
            "grid_template_columns": null,
            "flex": null,
            "_model_name": "LayoutModel",
            "justify_items": null,
            "grid_row": null,
            "max_height": null,
            "align_content": null,
            "visibility": null,
            "align_self": null,
            "height": null,
            "min_height": null,
            "padding": null,
            "grid_auto_rows": null,
            "grid_gap": null,
            "max_width": null,
            "order": null,
            "_view_module_version": "1.2.0",
            "grid_template_areas": null,
            "object_position": null,
            "object_fit": null,
            "grid_auto_columns": null,
            "margin": null,
            "display": null,
            "left": null
          }
        },
        "ec3730a05e7e40b9829aa690f9112816": {
          "model_module": "@jupyter-widgets/controls",
          "model_name": "DescriptionStyleModel",
          "state": {
            "_view_name": "StyleView",
            "_model_name": "DescriptionStyleModel",
            "description_width": "",
            "_view_module": "@jupyter-widgets/base",
            "_model_module_version": "1.5.0",
            "_view_count": null,
            "_view_module_version": "1.2.0",
            "_model_module": "@jupyter-widgets/controls"
          }
        },
        "2f89452e1c9f467cbabf7a4ffbe8a6ee": {
          "model_module": "@jupyter-widgets/base",
          "model_name": "LayoutModel",
          "state": {
            "_view_name": "LayoutView",
            "grid_template_rows": null,
            "right": null,
            "justify_content": null,
            "_view_module": "@jupyter-widgets/base",
            "overflow": null,
            "_model_module_version": "1.2.0",
            "_view_count": null,
            "flex_flow": null,
            "width": null,
            "min_width": null,
            "border": null,
            "align_items": null,
            "bottom": null,
            "_model_module": "@jupyter-widgets/base",
            "top": null,
            "grid_column": null,
            "overflow_y": null,
            "overflow_x": null,
            "grid_auto_flow": null,
            "grid_area": null,
            "grid_template_columns": null,
            "flex": null,
            "_model_name": "LayoutModel",
            "justify_items": null,
            "grid_row": null,
            "max_height": null,
            "align_content": null,
            "visibility": null,
            "align_self": null,
            "height": null,
            "min_height": null,
            "padding": null,
            "grid_auto_rows": null,
            "grid_gap": null,
            "max_width": null,
            "order": null,
            "_view_module_version": "1.2.0",
            "grid_template_areas": null,
            "object_position": null,
            "object_fit": null,
            "grid_auto_columns": null,
            "margin": null,
            "display": null,
            "left": null
          }
        },
        "c0628c2835de45cb97cc2191c1194b22": {
          "model_module": "@jupyter-widgets/controls",
          "model_name": "ProgressStyleModel",
          "state": {
            "_view_name": "StyleView",
            "_model_name": "ProgressStyleModel",
            "description_width": "",
            "_view_module": "@jupyter-widgets/base",
            "_model_module_version": "1.5.0",
            "_view_count": null,
            "_view_module_version": "1.2.0",
            "bar_color": null,
            "_model_module": "@jupyter-widgets/controls"
          }
        },
        "93275171cebc4597bf32623974a9302b": {
          "model_module": "@jupyter-widgets/base",
          "model_name": "LayoutModel",
          "state": {
            "_view_name": "LayoutView",
            "grid_template_rows": null,
            "right": null,
            "justify_content": null,
            "_view_module": "@jupyter-widgets/base",
            "overflow": null,
            "_model_module_version": "1.2.0",
            "_view_count": null,
            "flex_flow": null,
            "width": null,
            "min_width": null,
            "border": null,
            "align_items": null,
            "bottom": null,
            "_model_module": "@jupyter-widgets/base",
            "top": null,
            "grid_column": null,
            "overflow_y": null,
            "overflow_x": null,
            "grid_auto_flow": null,
            "grid_area": null,
            "grid_template_columns": null,
            "flex": null,
            "_model_name": "LayoutModel",
            "justify_items": null,
            "grid_row": null,
            "max_height": null,
            "align_content": null,
            "visibility": null,
            "align_self": null,
            "height": null,
            "min_height": null,
            "padding": null,
            "grid_auto_rows": null,
            "grid_gap": null,
            "max_width": null,
            "order": null,
            "_view_module_version": "1.2.0",
            "grid_template_areas": null,
            "object_position": null,
            "object_fit": null,
            "grid_auto_columns": null,
            "margin": null,
            "display": null,
            "left": null
          }
        },
        "ec22b624be0f489089ac1f1096b0aa4f": {
          "model_module": "@jupyter-widgets/base",
          "model_name": "LayoutModel",
          "state": {
            "_view_name": "LayoutView",
            "grid_template_rows": null,
            "right": null,
            "justify_content": null,
            "_view_module": "@jupyter-widgets/base",
            "overflow": null,
            "_model_module_version": "1.2.0",
            "_view_count": null,
            "flex_flow": null,
            "width": null,
            "min_width": null,
            "border": null,
            "align_items": null,
            "bottom": null,
            "_model_module": "@jupyter-widgets/base",
            "top": null,
            "grid_column": null,
            "overflow_y": null,
            "overflow_x": null,
            "grid_auto_flow": null,
            "grid_area": null,
            "grid_template_columns": null,
            "flex": null,
            "_model_name": "LayoutModel",
            "justify_items": null,
            "grid_row": null,
            "max_height": null,
            "align_content": null,
            "visibility": null,
            "align_self": null,
            "height": null,
            "min_height": null,
            "padding": null,
            "grid_auto_rows": null,
            "grid_gap": null,
            "max_width": null,
            "order": null,
            "_view_module_version": "1.2.0",
            "grid_template_areas": null,
            "object_position": null,
            "object_fit": null,
            "grid_auto_columns": null,
            "margin": null,
            "display": null,
            "left": null
          }
        }
      }
    }
  },
  "cells": [
    {
      "cell_type": "code",
      "metadata": {
        "id": "OXzCqMRTCb6o"
      },
      "source": [
        "from ipywidgets import *\n",
        "from fastai.vision.all import *\n",
        "from fastai.vision.widgets import widgets"
      ],
      "execution_count": null,
      "outputs": []
    },
    {
      "cell_type": "markdown",
      "metadata": {
        "id": "VGw7Mv4JivF_"
      },
      "source": [
        "**Aquarium Fish Classifier**\n",
        "\n",
        "what are the fish breeds in your aquarium?"
      ]
    },
    {
      "cell_type": "code",
      "metadata": {
        "id": "m6SQlcymh6k3"
      },
      "source": [
        "path = Path()\n",
        "learn_inf = load_learner(path/'aquarium_fish_model.pkl', cpu=True)\n",
        "btn_upload = widgets.FileUpload()\n",
        "out_pl = widgets.Output()\n",
        "lbl_pred = widgets.Label()\n",
        "confidence = widgets.IntProgress(\n",
        "    value=0,\n",
        "    min=0,\n",
        "    max=100,\n",
        "    step=1,\n",
        "    description='',\n",
        "    bar_style='info',\n",
        "    orientation='horizontal'\n",
        ")"
      ],
      "execution_count": 57,
      "outputs": []
    },
    {
      "cell_type": "code",
      "metadata": {
        "id": "bWBqUNDtiA6W"
      },
      "source": [
        "def on_data_change(change):\n",
        "    lbl_pred.value = ''\n",
        "    img = PILImage.create(btn_upload.data[-1])\n",
        "    out_pl.clear_output()\n",
        "    with out_pl: display(img.to_thumb(128,128))\n",
        "    pred,pred_idx,probs = learn_inf.predict(img)\n",
        "    lbl_pred.value = f'Prediction: {pred}; Probability: {probs[pred_idx]:.04f}'\n",
        "    confidence.value = probs[pred_idx]*100\n"
      ],
      "execution_count": 58,
      "outputs": []
    },
    {
      "cell_type": "code",
      "metadata": {
        "id": "Dhlz5dMtiHmD"
      },
      "source": [
        "btn_upload.observe(on_data_change, names=['data'])"
      ],
      "execution_count": 59,
      "outputs": []
    },
    {
      "cell_type": "code",
      "metadata": {
        "id": "-aRvu7rEiM05",
        "colab": {
          "base_uri": "https://localhost:8080/",
          "height": 225,
          "referenced_widgets": [
            "07e23dee304642cd955f24c52b279c1b",
            "87eb82822eec4c0abd4cf71daa289888",
            "1bda5d3d5785466680bbc3d525af33f4",
            "c54b80e18005469d9a26bbd21c28734f",
            "68555cd9dbf04bf788605aa762426a3b",
            "8c61cf70fbd74be38bc7d0f9bae1f0c4",
            "a6634f6cd769434787a233c2415228fb",
            "b82f9c115cd749358e4f00a5d004810f",
            "733678133698422f8f6d052a82b505e8",
            "c7ae118c1cc446a0be425af48a683c8c",
            "0fc360c580f84901aa7db22eb43071bd",
            "ec3730a05e7e40b9829aa690f9112816",
            "2f89452e1c9f467cbabf7a4ffbe8a6ee",
            "c0628c2835de45cb97cc2191c1194b22",
            "93275171cebc4597bf32623974a9302b",
            "ec22b624be0f489089ac1f1096b0aa4f"
          ]
        },
        "outputId": "d7c7d182-1b6f-426c-ab9b-8dbf16bb6036"
      },
      "source": [
        "display(VBox([widgets.Label('Upload fish image!'), btn_upload, out_pl, lbl_pred,confidence]))"
      ],
      "execution_count": 60,
      "outputs": [
        {
          "output_type": "display_data",
          "data": {
            "application/vnd.jupyter.widget-view+json": {
              "model_id": "07e23dee304642cd955f24c52b279c1b",
              "version_minor": 0,
              "version_major": 2
            },
            "text/plain": [
              "VBox(children=(Label(value='Upload fish image!'), FileUpload(value={}, description='Upload'), Output(), Label(…"
            ]
          },
          "metadata": {
            "tags": []
          }
        },
        {
          "output_type": "display_data",
          "data": {
            "text/html": [
              ""
            ],
            "text/plain": [
              "<IPython.core.display.HTML object>"
            ]
          },
          "metadata": {
            "tags": []
          }
        }
      ]
    }
  ]
}